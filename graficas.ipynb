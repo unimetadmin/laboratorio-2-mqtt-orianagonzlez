{
 "cells": [
  {
   "cell_type": "code",
   "execution_count": 2,
   "metadata": {},
   "outputs": [
    {
     "output_type": "error",
     "ename": "ModuleNotFoundError",
     "evalue": "No module named 'jupyter_dash'",
     "traceback": [
      "\u001b[1;31m---------------------------------------------------------------------------\u001b[0m",
      "\u001b[1;31mModuleNotFoundError\u001b[0m                       Traceback (most recent call last)",
      "\u001b[1;32m<ipython-input-2-880493d99dbd>\u001b[0m in \u001b[0;36m<module>\u001b[1;34m\u001b[0m\n\u001b[1;32m----> 1\u001b[1;33m \u001b[1;32mfrom\u001b[0m \u001b[0mjupyter_dash\u001b[0m \u001b[1;32mimport\u001b[0m \u001b[0mJupyterDash\u001b[0m\u001b[1;33m\u001b[0m\u001b[1;33m\u001b[0m\u001b[0m\n\u001b[0m\u001b[0;32m      2\u001b[0m \u001b[1;32mimport\u001b[0m \u001b[0mdash_core_components\u001b[0m \u001b[1;32mas\u001b[0m \u001b[0mdcc\u001b[0m\u001b[1;33m\u001b[0m\u001b[1;33m\u001b[0m\u001b[0m\n\u001b[0;32m      3\u001b[0m \u001b[1;32mimport\u001b[0m \u001b[0mdash_html_components\u001b[0m \u001b[1;32mas\u001b[0m \u001b[0mhtml\u001b[0m\u001b[1;33m\u001b[0m\u001b[1;33m\u001b[0m\u001b[0m\n\u001b[0;32m      4\u001b[0m \u001b[1;32mfrom\u001b[0m \u001b[0mdash\u001b[0m\u001b[1;33m.\u001b[0m\u001b[0mdependencies\u001b[0m \u001b[1;32mimport\u001b[0m \u001b[1;33m(\u001b[0m\u001b[0mInput\u001b[0m\u001b[1;33m,\u001b[0m \u001b[0mOutput\u001b[0m\u001b[1;33m)\u001b[0m\u001b[1;33m\u001b[0m\u001b[1;33m\u001b[0m\u001b[0m\n\u001b[0;32m      5\u001b[0m \u001b[1;32mimport\u001b[0m \u001b[0mplotly\u001b[0m\u001b[1;33m.\u001b[0m\u001b[0mgraph_objs\u001b[0m \u001b[1;32mas\u001b[0m \u001b[0mgo\u001b[0m\u001b[1;33m\u001b[0m\u001b[1;33m\u001b[0m\u001b[0m\n",
      "\u001b[1;31mModuleNotFoundError\u001b[0m: No module named 'jupyter_dash'"
     ]
    }
   ],
   "source": [
    "from jupyter_dash import JupyterDash\n",
    "import dash_core_components as dcc\n",
    "import dash_html_components as html\n",
    "from dash.dependencies import (Input, Output)\n",
    "import plotly.graph_objs as go\n",
    "\n",
    "import pandas as pd\n",
    "import time\n",
    "import random\n",
    "from csv import writer\n",
    "import os"
   ]
  },
  {
   "cell_type": "markdown",
   "metadata": {},
   "source": [
    "Hay que correr primero suscriptor y publicador para que se cree el archivo csv"
   ]
  },
  {
   "cell_type": "markdown",
   "metadata": {},
   "source": [
    "Grafica de la nevera"
   ]
  },
  {
   "cell_type": "code",
   "execution_count": 3,
   "metadata": {},
   "outputs": [
    {
     "ename": "NameError",
     "evalue": "name 'JupyterDash' is not defined",
     "output_type": "error",
     "traceback": [
      "\u001b[1;31m---------------------------------------------------------------------------\u001b[0m",
      "\u001b[1;31mNameError\u001b[0m                                 Traceback (most recent call last)",
      "\u001b[1;32m<ipython-input-3-6be1c6090fba>\u001b[0m in \u001b[0;36m<module>\u001b[1;34m\u001b[0m\n\u001b[1;32m----> 1\u001b[1;33m \u001b[0mapp\u001b[0m \u001b[1;33m=\u001b[0m \u001b[0mJupyterDash\u001b[0m\u001b[1;33m(\u001b[0m\u001b[0m__name__\u001b[0m\u001b[1;33m)\u001b[0m\u001b[1;33m\u001b[0m\u001b[1;33m\u001b[0m\u001b[0m\n\u001b[0m\u001b[0;32m      2\u001b[0m \u001b[1;33m\u001b[0m\u001b[0m\n\u001b[0;32m      3\u001b[0m app.layout = html.Div([\n\u001b[0;32m      4\u001b[0m     \u001b[0mdcc\u001b[0m\u001b[1;33m.\u001b[0m\u001b[0mGraph\u001b[0m\u001b[1;33m(\u001b[0m\u001b[0mid\u001b[0m\u001b[1;33m=\u001b[0m\u001b[1;34m'demo-live'\u001b[0m\u001b[1;33m)\u001b[0m\u001b[1;33m,\u001b[0m\u001b[1;33m\u001b[0m\u001b[1;33m\u001b[0m\u001b[0m\n\u001b[0;32m      5\u001b[0m     \u001b[0mdcc\u001b[0m\u001b[1;33m.\u001b[0m\u001b[0mInterval\u001b[0m\u001b[1;33m(\u001b[0m\u001b[0mid\u001b[0m\u001b[1;33m=\u001b[0m\u001b[1;34m'output-update'\u001b[0m\u001b[1;33m,\u001b[0m \u001b[0minterval\u001b[0m\u001b[1;33m=\u001b[0m\u001b[1;36m2\u001b[0m\u001b[1;33m*\u001b[0m\u001b[1;36m1000\u001b[0m\u001b[1;33m)\u001b[0m\u001b[1;33m\u001b[0m\u001b[1;33m\u001b[0m\u001b[0m\n",
      "\u001b[1;31mNameError\u001b[0m: name 'JupyterDash' is not defined"
     ]
    }
   ],
   "source": [
    "app = JupyterDash(__name__)\n",
    "\n",
    "app.layout = html.Div([\n",
    "    dcc.Graph(id='demo-live'),\n",
    "    dcc.Interval(id='output-update', interval=2*1000)\n",
    "])\n",
    "\n",
    "@app.callback(\n",
    "    Output(component_id='demo-live', component_property='figure'),\n",
    "    [Input(component_id='output-update', component_property='n_intervals')]\n",
    ")\n",
    "def get_live_updates(n_intervals):\n",
    "    generate_streaming_data()\n",
    "    time.sleep(1)\n",
    "    df = pd.read_csv('datos_nevera.csv')\n",
    "    x = sorted(df['tiempo'].to_list())\n",
    "    y = sorted(df['temperatura'].to_list())\n",
    "    data = go.Scatter(\n",
    "        x=x, y=y, mode='lines+markers'\n",
    "    )\n",
    "    layout = go.Layout(\n",
    "        autosize=False,\n",
    "        width=780,\n",
    "        height=500,\n",
    "        margin=dict(l=20, r=20, t=20, b=20),\n",
    "\n",
    "    )\n",
    "    fig = {'data' : [data], 'layout' : layout}\n",
    "    return fig\n",
    "\n",
    "app.run_server(mode='inline')"
   ]
  },
  {
   "cell_type": "markdown",
   "metadata": {},
   "source": [
    "Grafico de la olla"
   ]
  },
  {
   "cell_type": "code",
   "execution_count": null,
   "metadata": {},
   "outputs": [],
   "source": [
    "app = JupyterDash(__name__)\n",
    "\n",
    "app.layout = html.Div([\n",
    "    dcc.Graph(id='demo-live'),\n",
    "    dcc.Interval(id='output-update', interval=2*1000)\n",
    "])\n",
    "\n",
    "@app.callback(\n",
    "    Output(component_id='demo-live', component_property='figure'),\n",
    "    [Input(component_id='output-update', component_property='n_intervals')]\n",
    ")\n",
    "def get_live_updates(n_intervals):\n",
    "    generate_streaming_data()\n",
    "    time.sleep(1)\n",
    "    df = pd.read_csv('datos_olla.csv')\n",
    "    x = sorted(df['tiempo'].to_list())\n",
    "    y = sorted(df['temperatura'].to_list())\n",
    "    data = go.Scatter(\n",
    "        x=x, y=y, mode='lines+markers'\n",
    "    )\n",
    "    layout = go.Layout(\n",
    "        autosize=False,\n",
    "        width=780,\n",
    "        height=500,\n",
    "        margin=dict(l=20, r=20, t=20, b=20),\n",
    "\n",
    "    )\n",
    "    fig = {'data' : [data], 'layout' : layout}\n",
    "    return fig\n",
    "\n",
    "app.run_server(mode='inline')"
   ]
  },
  {
   "cell_type": "raw",
   "metadata": {},
   "source": [
    "Grafico del contador de personas"
   ]
  },
  {
   "cell_type": "code",
   "execution_count": null,
   "metadata": {},
   "outputs": [],
   "source": [
    "app = JupyterDash(__name__)\n",
    "\n",
    "app.layout = html.Div([\n",
    "    dcc.Graph(id='demo-live'),\n",
    "    dcc.Interval(id='output-update', interval=2*1000)\n",
    "])\n",
    "\n",
    "@app.callback(\n",
    "    Output(component_id='demo-live', component_property='figure'),\n",
    "    [Input(component_id='output-update', component_property='n_intervals')]\n",
    ")\n",
    "def get_live_updates(n_intervals):\n",
    "    generate_streaming_data()\n",
    "    time.sleep(1)\n",
    "    df = pd.read_csv('datos_contador.csv')\n",
    "    x = sorted(df['tiempo'].to_list())\n",
    "    y = sorted(df['cantidad'].to_list())\n",
    "    data = go.Scatter(\n",
    "        x=x, y=y, mode='lines+markers'\n",
    "    )\n",
    "    layout = go.Layout(\n",
    "        autosize=False,\n",
    "        width=780,\n",
    "        height=500,\n",
    "        margin=dict(l=20, r=20, t=20, b=20),\n",
    "\n",
    "    )\n",
    "    fig = {'data' : [data], 'layout' : layout}\n",
    "    return fig\n",
    "\n",
    "app.run_server(mode='inline')"
   ]
  },
  {
   "cell_type": "markdown",
   "metadata": {},
   "source": [
    "Grafico de alexa echo"
   ]
  },
  {
   "cell_type": "code",
   "execution_count": null,
   "metadata": {},
   "outputs": [],
   "source": [
    "app = JupyterDash(__name__)\n",
    "\n",
    "app.layout = html.Div([\n",
    "    dcc.Graph(id='demo-live'),\n",
    "    dcc.Interval(id='output-update', interval=2*1000)\n",
    "])\n",
    "\n",
    "@app.callback(\n",
    "    Output(component_id='demo-live', component_property='figure'),\n",
    "    [Input(component_id='output-update', component_property='n_intervals')]\n",
    ")\n",
    "def get_live_updates(n_intervals):\n",
    "    generate_streaming_data()\n",
    "    time.sleep(1)\n",
    "    df = pd.read_csv('datos_alexa.csv')\n",
    "    x = sorted(df['tiempo'].to_list())\n",
    "    y = sorted(df['temperatura'].to_list())\n",
    "    data = go.Scatter(\n",
    "        x=x, y=y, mode='lines+markers'\n",
    "    )\n",
    "    layout = go.Layout(\n",
    "        autosize=False,\n",
    "        width=780,\n",
    "        height=500,\n",
    "        margin=dict(l=20, r=20, t=20, b=20),\n",
    "\n",
    "    )\n",
    "    fig = {'data' : [data], 'layout' : layout}\n",
    "    return fig\n",
    "\n",
    "app.run_server(mode='inline')"
   ]
  },
  {
   "cell_type": "markdown",
   "metadata": {},
   "source": [
    "Grafico del tanque"
   ]
  },
  {
   "cell_type": "code",
   "execution_count": null,
   "metadata": {},
   "outputs": [],
   "source": [
    "app = JupyterDash(__name__)\n",
    "\n",
    "app.layout = html.Div([\n",
    "    dcc.Graph(id='demo-live'),\n",
    "    dcc.Interval(id='output-update', interval=2*1000)\n",
    "])\n",
    "\n",
    "@app.callback(\n",
    "    Output(component_id='demo-live', component_property='figure'),\n",
    "    [Input(component_id='output-update', component_property='n_intervals')]\n",
    ")\n",
    "def get_live_updates(n_intervals):\n",
    "    generate_streaming_data()\n",
    "    time.sleep(1)\n",
    "    df = pd.read_csv('datos_tanque.csv')\n",
    "    x = sorted(df['tiempo'].to_list())\n",
    "    y = sorted(df['nivel'].to_list())\n",
    "    data = go.Scatter(\n",
    "        x=x, y=y, mode='lines+markers'\n",
    "    )\n",
    "    layout = go.Layout(\n",
    "        autosize=False,\n",
    "        width=780,\n",
    "        height=500,\n",
    "        margin=dict(l=20, r=20, t=20, b=20),\n",
    "\n",
    "    )\n",
    "    fig = {'data' : [data], 'layout' : layout}\n",
    "    return fig\n",
    "\n",
    "app.run_server(mode='inline')"
   ]
  }
 ],
 "metadata": {
  "kernelspec": {
   "name": "python385jvsc74a57bd0386c60c473e54ba8fb33bf549b8626f303e95d1c637d930a435b28bd0f27bb76",
   "display_name": "Python 3.8.5 64-bit (conda)"
  },
  "language_info": {
   "codemirror_mode": {
    "name": "ipython",
    "version": 3
   },
   "file_extension": ".py",
   "mimetype": "text/x-python",
   "name": "python",
   "nbconvert_exporter": "python",
   "pygments_lexer": "ipython3",
   "version": "3.8.5"
  }
 },
 "nbformat": 4,
 "nbformat_minor": 4
}